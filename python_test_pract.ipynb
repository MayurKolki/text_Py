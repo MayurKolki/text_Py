{
 "cells": [
  {
   "cell_type": "code",
   "execution_count": 1,
   "id": "1d979113",
   "metadata": {},
   "outputs": [
    {
     "data": {
      "text/plain": [
       "[]"
      ]
     },
     "execution_count": 1,
     "metadata": {},
     "output_type": "execute_result"
    }
   ],
   "source": [
    "List = ['a', 'b', 'c', 'd', 'e']\n",
    "\n",
    "List[10:]"
   ]
  },
  {
   "cell_type": "code",
   "execution_count": 15,
   "id": "eb9a8b8a",
   "metadata": {},
   "outputs": [
    {
     "name": "stdout",
     "output_type": "stream",
     "text": [
      "Mayur B.E 26\n"
     ]
    }
   ],
   "source": [
    "class Mayur():\n",
    "    def __init__(self,name,degree,age):\n",
    "        self.name=name\n",
    "        self.degree=degree\n",
    "        self.age=age\n",
    "       \n",
    "        \n",
    "class kolki(Mayur):\n",
    "    pass\n",
    "    \n",
    "em_mk=kolki(\"Mayur\",\"B.E\",26)\n",
    "\n",
    "print(em_mk.name,em_mk.degree,em_mk.age)\n"
   ]
  },
  {
   "cell_type": "code",
   "execution_count": 2,
   "id": "e7677655",
   "metadata": {},
   "outputs": [
    {
     "data": {
      "text/plain": [
       "1"
      ]
     },
     "execution_count": 2,
     "metadata": {},
     "output_type": "execute_result"
    }
   ],
   "source": [
    "lp=\"mayur mkoMlki\"\n",
    "lp.split()\n",
    "lp.count(\"M\")"
   ]
  },
  {
   "cell_type": "code",
   "execution_count": 37,
   "id": "84794a15",
   "metadata": {},
   "outputs": [],
   "source": [
    "sent=\"my name is Mayur Vinay Kolki ,I am employee of Open financial tech , I am working as Data Analyst from pasr 1.3 years, my email_id is mayur.kolki@bankopen.co\""
   ]
  },
  {
   "cell_type": "code",
   "execution_count": 38,
   "id": "6d83185f",
   "metadata": {},
   "outputs": [
    {
     "data": {
      "text/plain": [
       "['my name is Mayur Vinay Kolki ,I am employee of Open financial tech , I am working as Data Analyst from pasr 1.3 years, my email_id is mayur.kolki@bankopen.co']"
      ]
     },
     "execution_count": 38,
     "metadata": {},
     "output_type": "execute_result"
    }
   ],
   "source": [
    "sent.split(\"[A-Z]\\w\")"
   ]
  },
  {
   "cell_type": "code",
   "execution_count": 39,
   "id": "0cdd9292",
   "metadata": {},
   "outputs": [
    {
     "data": {
      "text/plain": [
       "['m', 'nam', 'am ', 'em', 'am ', 'from ', 'm', 'em', 'm']"
      ]
     },
     "execution_count": 39,
     "metadata": {},
     "output_type": "execute_result"
    }
   ],
   "source": [
    "re.findall(\"[\\w]*m[\\W]*\",sent)"
   ]
  },
  {
   "cell_type": "code",
   "execution_count": 40,
   "id": "bb4f2d6a",
   "metadata": {},
   "outputs": [
    {
     "data": {
      "text/plain": [
       "['Mayur', 'Vinay', 'Kolki', 'Open', 'Data', 'Analyst']"
      ]
     },
     "execution_count": 40,
     "metadata": {},
     "output_type": "execute_result"
    }
   ],
   "source": [
    "re.findall(\"[A-Z]\\w+\",sent)"
   ]
  },
  {
   "cell_type": "code",
   "execution_count": 41,
   "id": "420de7b6",
   "metadata": {},
   "outputs": [
    {
     "data": {
      "text/plain": [
       "['Mayur', 'Vinay', 'Kolki', 'I', 'Open', 'I', 'Data', 'Analyst']"
      ]
     },
     "execution_count": 41,
     "metadata": {},
     "output_type": "execute_result"
    }
   ],
   "source": [
    "re.findall(\"[\\w]*[A-Z][\\w]*\",sent)"
   ]
  },
  {
   "cell_type": "code",
   "execution_count": 42,
   "id": "dd811989",
   "metadata": {
    "collapsed": true
   },
   "outputs": [
    {
     "data": {
      "text/plain": [
       "['my',\n",
       " 'name',\n",
       " 'is',\n",
       " 'ayur',\n",
       " 'inay',\n",
       " 'olki',\n",
       " 'am',\n",
       " 'employee',\n",
       " 'of',\n",
       " 'pen',\n",
       " 'financial',\n",
       " 'tech',\n",
       " 'am',\n",
       " 'working',\n",
       " 'as',\n",
       " 'ata',\n",
       " 'nalyst',\n",
       " 'from',\n",
       " 'pasr',\n",
       " 'years',\n",
       " 'my',\n",
       " 'email',\n",
       " 'id',\n",
       " 'is',\n",
       " 'mayur',\n",
       " 'kolki',\n",
       " 'bankopen',\n",
       " 'co']"
      ]
     },
     "execution_count": 42,
     "metadata": {},
     "output_type": "execute_result"
    }
   ],
   "source": [
    "re.findall(\"[a-z]+\",sent)"
   ]
  },
  {
   "cell_type": "code",
   "execution_count": 43,
   "id": "8a00f4aa",
   "metadata": {},
   "outputs": [
    {
     "data": {
      "text/plain": [
       "['mayur.kolki@bankopen.co']"
      ]
     },
     "execution_count": 43,
     "metadata": {},
     "output_type": "execute_result"
    }
   ],
   "source": [
    "re.findall(\"[\\w.]+@[\\w.]+\",sent)"
   ]
  },
  {
   "cell_type": "code",
   "execution_count": 45,
   "id": "6ffffe85",
   "metadata": {},
   "outputs": [
    {
     "data": {
      "text/plain": [
       "['Analyst']"
      ]
     },
     "execution_count": 45,
     "metadata": {},
     "output_type": "execute_result"
    }
   ],
   "source": [
    "re.findall(\"[\\w.]+lyst\",sent)"
   ]
  },
  {
   "cell_type": "code",
   "execution_count": 46,
   "id": "1e91e21a",
   "metadata": {},
   "outputs": [
    {
     "data": {
      "text/plain": [
       "['1', '3']"
      ]
     },
     "execution_count": 46,
     "metadata": {},
     "output_type": "execute_result"
    }
   ],
   "source": [
    "re.findall(\"\\d+\",sent)"
   ]
  }
 ],
 "metadata": {
  "kernelspec": {
   "display_name": "Python 3",
   "language": "python",
   "name": "python3"
  },
  "language_info": {
   "codemirror_mode": {
    "name": "ipython",
    "version": 3
   },
   "file_extension": ".py",
   "mimetype": "text/x-python",
   "name": "python",
   "nbconvert_exporter": "python",
   "pygments_lexer": "ipython3",
   "version": "3.7.10"
  }
 },
 "nbformat": 4,
 "nbformat_minor": 5
}
